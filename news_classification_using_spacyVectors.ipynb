{
 "cells": [
  {
   "cell_type": "code",
   "execution_count": 1,
   "id": "dac22d6b",
   "metadata": {},
   "outputs": [],
   "source": [
    "import pandas as pd\n",
    "import spacy"
   ]
  },
  {
   "cell_type": "code",
   "execution_count": 2,
   "id": "d4a8eb28",
   "metadata": {},
   "outputs": [
    {
     "data": {
      "text/html": [
       "<div>\n",
       "<style scoped>\n",
       "    .dataframe tbody tr th:only-of-type {\n",
       "        vertical-align: middle;\n",
       "    }\n",
       "\n",
       "    .dataframe tbody tr th {\n",
       "        vertical-align: top;\n",
       "    }\n",
       "\n",
       "    .dataframe thead th {\n",
       "        text-align: right;\n",
       "    }\n",
       "</style>\n",
       "<table border=\"1\" class=\"dataframe\">\n",
       "  <thead>\n",
       "    <tr style=\"text-align: right;\">\n",
       "      <th></th>\n",
       "      <th>Text</th>\n",
       "      <th>label</th>\n",
       "    </tr>\n",
       "  </thead>\n",
       "  <tbody>\n",
       "    <tr>\n",
       "      <th>0</th>\n",
       "      <td>Top Trump Surrogate BRUTALLY Stabs Him In The...</td>\n",
       "      <td>Fake</td>\n",
       "    </tr>\n",
       "    <tr>\n",
       "      <th>1</th>\n",
       "      <td>U.S. conservative leader optimistic of common ...</td>\n",
       "      <td>Real</td>\n",
       "    </tr>\n",
       "    <tr>\n",
       "      <th>2</th>\n",
       "      <td>Trump proposes U.S. tax overhaul, stirs concer...</td>\n",
       "      <td>Real</td>\n",
       "    </tr>\n",
       "    <tr>\n",
       "      <th>3</th>\n",
       "      <td>Court Forces Ohio To Allow Millions Of Illega...</td>\n",
       "      <td>Fake</td>\n",
       "    </tr>\n",
       "    <tr>\n",
       "      <th>4</th>\n",
       "      <td>Democrats say Trump agrees to work on immigrat...</td>\n",
       "      <td>Real</td>\n",
       "    </tr>\n",
       "  </tbody>\n",
       "</table>\n",
       "</div>"
      ],
      "text/plain": [
       "                                                Text label\n",
       "0   Top Trump Surrogate BRUTALLY Stabs Him In The...  Fake\n",
       "1  U.S. conservative leader optimistic of common ...  Real\n",
       "2  Trump proposes U.S. tax overhaul, stirs concer...  Real\n",
       "3   Court Forces Ohio To Allow Millions Of Illega...  Fake\n",
       "4  Democrats say Trump agrees to work on immigrat...  Real"
      ]
     },
     "execution_count": 2,
     "metadata": {},
     "output_type": "execute_result"
    }
   ],
   "source": [
    "df=pd.read_csv(\"Fake_Real_Data.csv\")\n",
    "df.head()"
   ]
  },
  {
   "cell_type": "code",
   "execution_count": 3,
   "id": "2e28e5fc",
   "metadata": {},
   "outputs": [
    {
     "data": {
      "text/plain": [
       "Text     0\n",
       "label    0\n",
       "dtype: int64"
      ]
     },
     "execution_count": 3,
     "metadata": {},
     "output_type": "execute_result"
    }
   ],
   "source": [
    "df.isnull().sum()"
   ]
  },
  {
   "cell_type": "code",
   "execution_count": 5,
   "id": "08a25ba9",
   "metadata": {},
   "outputs": [
    {
     "data": {
      "text/plain": [
       "Fake    5000\n",
       "Real    4900\n",
       "Name: label, dtype: int64"
      ]
     },
     "execution_count": 5,
     "metadata": {},
     "output_type": "execute_result"
    }
   ],
   "source": [
    "df.label.value_counts()"
   ]
  },
  {
   "cell_type": "code",
   "execution_count": 6,
   "id": "56e5878b",
   "metadata": {},
   "outputs": [
    {
     "data": {
      "text/plain": [
       "(9900, 2)"
      ]
     },
     "execution_count": 6,
     "metadata": {},
     "output_type": "execute_result"
    }
   ],
   "source": [
    "df.shape"
   ]
  },
  {
   "cell_type": "code",
   "execution_count": 11,
   "id": "a424afa5",
   "metadata": {},
   "outputs": [
    {
     "data": {
      "text/html": [
       "<div>\n",
       "<style scoped>\n",
       "    .dataframe tbody tr th:only-of-type {\n",
       "        vertical-align: middle;\n",
       "    }\n",
       "\n",
       "    .dataframe tbody tr th {\n",
       "        vertical-align: top;\n",
       "    }\n",
       "\n",
       "    .dataframe thead th {\n",
       "        text-align: right;\n",
       "    }\n",
       "</style>\n",
       "<table border=\"1\" class=\"dataframe\">\n",
       "  <thead>\n",
       "    <tr style=\"text-align: right;\">\n",
       "      <th></th>\n",
       "      <th>Text</th>\n",
       "      <th>label</th>\n",
       "      <th>new_label</th>\n",
       "    </tr>\n",
       "  </thead>\n",
       "  <tbody>\n",
       "    <tr>\n",
       "      <th>0</th>\n",
       "      <td>Top Trump Surrogate BRUTALLY Stabs Him In The...</td>\n",
       "      <td>Fake</td>\n",
       "      <td>0</td>\n",
       "    </tr>\n",
       "    <tr>\n",
       "      <th>1</th>\n",
       "      <td>U.S. conservative leader optimistic of common ...</td>\n",
       "      <td>Real</td>\n",
       "      <td>1</td>\n",
       "    </tr>\n",
       "    <tr>\n",
       "      <th>2</th>\n",
       "      <td>Trump proposes U.S. tax overhaul, stirs concer...</td>\n",
       "      <td>Real</td>\n",
       "      <td>1</td>\n",
       "    </tr>\n",
       "    <tr>\n",
       "      <th>3</th>\n",
       "      <td>Court Forces Ohio To Allow Millions Of Illega...</td>\n",
       "      <td>Fake</td>\n",
       "      <td>0</td>\n",
       "    </tr>\n",
       "    <tr>\n",
       "      <th>4</th>\n",
       "      <td>Democrats say Trump agrees to work on immigrat...</td>\n",
       "      <td>Real</td>\n",
       "      <td>1</td>\n",
       "    </tr>\n",
       "  </tbody>\n",
       "</table>\n",
       "</div>"
      ],
      "text/plain": [
       "                                                Text label  new_label\n",
       "0   Top Trump Surrogate BRUTALLY Stabs Him In The...  Fake          0\n",
       "1  U.S. conservative leader optimistic of common ...  Real          1\n",
       "2  Trump proposes U.S. tax overhaul, stirs concer...  Real          1\n",
       "3   Court Forces Ohio To Allow Millions Of Illega...  Fake          0\n",
       "4  Democrats say Trump agrees to work on immigrat...  Real          1"
      ]
     },
     "execution_count": 11,
     "metadata": {},
     "output_type": "execute_result"
    }
   ],
   "source": [
    "df[\"new_label\"]=df[\"label\"].map({'Fake':0,'Real':1})\n",
    "df.head()"
   ]
  },
  {
   "cell_type": "code",
   "execution_count": 12,
   "id": "f78239a6",
   "metadata": {},
   "outputs": [],
   "source": [
    "nlp=spacy.load(\"en_core_web_lg\")"
   ]
  },
  {
   "cell_type": "markdown",
   "id": "74eaa550",
   "metadata": {},
   "source": [
    "# simdi text adli sutun uzerinden yapacagım islem uzun surecek onun icin veri setini kucultecegim"
   ]
  },
  {
   "cell_type": "code",
   "execution_count": 20,
   "id": "6de3b5e0",
   "metadata": {},
   "outputs": [
    {
     "ename": "TypeError",
     "evalue": "sample() got an unexpected keyword argument 'sorted'",
     "output_type": "error",
     "traceback": [
      "\u001b[1;31m---------------------------------------------------------------------------\u001b[0m",
      "\u001b[1;31mTypeError\u001b[0m                                 Traceback (most recent call last)",
      "\u001b[1;32m~\\AppData\\Local\\Temp\\ipykernel_4440\\742471922.py\u001b[0m in \u001b[0;36m<module>\u001b[1;34m\u001b[0m\n\u001b[1;32m----> 1\u001b[1;33m \u001b[0mdf2\u001b[0m\u001b[1;33m=\u001b[0m\u001b[0mdf\u001b[0m\u001b[1;33m.\u001b[0m\u001b[0msample\u001b[0m\u001b[1;33m(\u001b[0m\u001b[1;36m5000\u001b[0m\u001b[1;33m,\u001b[0m\u001b[0msorted\u001b[0m\u001b[1;33m=\u001b[0m\u001b[1;34m\"False\"\u001b[0m\u001b[1;33m)\u001b[0m\u001b[1;33m\u001b[0m\u001b[1;33m\u001b[0m\u001b[0m\n\u001b[0m",
      "\u001b[1;31mTypeError\u001b[0m: sample() got an unexpected keyword argument 'sorted'"
     ]
    }
   ],
   "source": [
    "df2=df.sample(5000)"
   ]
  },
  {
   "cell_type": "code",
   "execution_count": 16,
   "id": "858378c8",
   "metadata": {},
   "outputs": [
    {
     "data": {
      "text/html": [
       "<div>\n",
       "<style scoped>\n",
       "    .dataframe tbody tr th:only-of-type {\n",
       "        vertical-align: middle;\n",
       "    }\n",
       "\n",
       "    .dataframe tbody tr th {\n",
       "        vertical-align: top;\n",
       "    }\n",
       "\n",
       "    .dataframe thead th {\n",
       "        text-align: right;\n",
       "    }\n",
       "</style>\n",
       "<table border=\"1\" class=\"dataframe\">\n",
       "  <thead>\n",
       "    <tr style=\"text-align: right;\">\n",
       "      <th></th>\n",
       "      <th>Text</th>\n",
       "      <th>label</th>\n",
       "      <th>new_label</th>\n",
       "    </tr>\n",
       "  </thead>\n",
       "  <tbody>\n",
       "    <tr>\n",
       "      <th>6792</th>\n",
       "      <td>We don't know what Trump has decided on Paris ...</td>\n",
       "      <td>Real</td>\n",
       "      <td>1</td>\n",
       "    </tr>\n",
       "    <tr>\n",
       "      <th>2154</th>\n",
       "      <td>Insurers step up pitch for Obamacare as govern...</td>\n",
       "      <td>Real</td>\n",
       "      <td>1</td>\n",
       "    </tr>\n",
       "    <tr>\n",
       "      <th>1024</th>\n",
       "      <td>Special counsel's Russia probe entering new ph...</td>\n",
       "      <td>Real</td>\n",
       "      <td>1</td>\n",
       "    </tr>\n",
       "    <tr>\n",
       "      <th>9841</th>\n",
       "      <td>Ex-CIA chief: Worries grew of Trump campaign c...</td>\n",
       "      <td>Real</td>\n",
       "      <td>1</td>\n",
       "    </tr>\n",
       "    <tr>\n",
       "      <th>1705</th>\n",
       "      <td>Trump lawyer Dowd says he drafted tweet on Fly...</td>\n",
       "      <td>Real</td>\n",
       "      <td>1</td>\n",
       "    </tr>\n",
       "  </tbody>\n",
       "</table>\n",
       "</div>"
      ],
      "text/plain": [
       "                                                   Text label  new_label\n",
       "6792  We don't know what Trump has decided on Paris ...  Real          1\n",
       "2154  Insurers step up pitch for Obamacare as govern...  Real          1\n",
       "1024  Special counsel's Russia probe entering new ph...  Real          1\n",
       "9841  Ex-CIA chief: Worries grew of Trump campaign c...  Real          1\n",
       "1705  Trump lawyer Dowd says he drafted tweet on Fly...  Real          1"
      ]
     },
     "execution_count": 16,
     "metadata": {},
     "output_type": "execute_result"
    }
   ],
   "source": [
    "df2.head()"
   ]
  },
  {
   "cell_type": "code",
   "execution_count": 18,
   "id": "2fdc0c9c",
   "metadata": {},
   "outputs": [
    {
     "data": {
      "text/plain": [
       "0    2593\n",
       "1    2407\n",
       "Name: new_label, dtype: int64"
      ]
     },
     "execution_count": 18,
     "metadata": {},
     "output_type": "execute_result"
    }
   ],
   "source": [
    "df2.new_label.value_counts()"
   ]
  },
  {
   "cell_type": "code",
   "execution_count": 21,
   "id": "677a6c36",
   "metadata": {},
   "outputs": [
    {
     "data": {
      "text/plain": [
       "(300,)"
      ]
     },
     "execution_count": 21,
     "metadata": {},
     "output_type": "execute_result"
    }
   ],
   "source": [
    "doc=nlp(\"We don't know what Trump has decided on Paris\")\n",
    "\n",
    "doc.vector.shape"
   ]
  },
  {
   "cell_type": "code",
   "execution_count": 22,
   "id": "3cddb083",
   "metadata": {},
   "outputs": [
    {
     "data": {
      "text/html": [
       "<div>\n",
       "<style scoped>\n",
       "    .dataframe tbody tr th:only-of-type {\n",
       "        vertical-align: middle;\n",
       "    }\n",
       "\n",
       "    .dataframe tbody tr th {\n",
       "        vertical-align: top;\n",
       "    }\n",
       "\n",
       "    .dataframe thead th {\n",
       "        text-align: right;\n",
       "    }\n",
       "</style>\n",
       "<table border=\"1\" class=\"dataframe\">\n",
       "  <thead>\n",
       "    <tr style=\"text-align: right;\">\n",
       "      <th></th>\n",
       "      <th>Text</th>\n",
       "      <th>label</th>\n",
       "      <th>new_label</th>\n",
       "      <th>new_Text</th>\n",
       "    </tr>\n",
       "  </thead>\n",
       "  <tbody>\n",
       "    <tr>\n",
       "      <th>6792</th>\n",
       "      <td>We don't know what Trump has decided on Paris ...</td>\n",
       "      <td>Real</td>\n",
       "      <td>1</td>\n",
       "      <td>[-0.8711763, 1.4957069, -1.9562017, 0.18408139...</td>\n",
       "    </tr>\n",
       "    <tr>\n",
       "      <th>2154</th>\n",
       "      <td>Insurers step up pitch for Obamacare as govern...</td>\n",
       "      <td>Real</td>\n",
       "      <td>1</td>\n",
       "      <td>[-1.6902056, 0.41529933, -2.342554, 0.8131513,...</td>\n",
       "    </tr>\n",
       "    <tr>\n",
       "      <th>1024</th>\n",
       "      <td>Special counsel's Russia probe entering new ph...</td>\n",
       "      <td>Real</td>\n",
       "      <td>1</td>\n",
       "      <td>[-1.8199894, 0.52040213, -2.000895, 0.7491254,...</td>\n",
       "    </tr>\n",
       "    <tr>\n",
       "      <th>9841</th>\n",
       "      <td>Ex-CIA chief: Worries grew of Trump campaign c...</td>\n",
       "      <td>Real</td>\n",
       "      <td>1</td>\n",
       "      <td>[-1.6783788, 0.68062544, -1.7743266, 0.7714877...</td>\n",
       "    </tr>\n",
       "    <tr>\n",
       "      <th>1705</th>\n",
       "      <td>Trump lawyer Dowd says he drafted tweet on Fly...</td>\n",
       "      <td>Real</td>\n",
       "      <td>1</td>\n",
       "      <td>[-1.2252358, 0.3327072, -1.0450894, 0.5324713,...</td>\n",
       "    </tr>\n",
       "  </tbody>\n",
       "</table>\n",
       "</div>"
      ],
      "text/plain": [
       "                                                   Text label  new_label  \\\n",
       "6792  We don't know what Trump has decided on Paris ...  Real          1   \n",
       "2154  Insurers step up pitch for Obamacare as govern...  Real          1   \n",
       "1024  Special counsel's Russia probe entering new ph...  Real          1   \n",
       "9841  Ex-CIA chief: Worries grew of Trump campaign c...  Real          1   \n",
       "1705  Trump lawyer Dowd says he drafted tweet on Fly...  Real          1   \n",
       "\n",
       "                                               new_Text  \n",
       "6792  [-0.8711763, 1.4957069, -1.9562017, 0.18408139...  \n",
       "2154  [-1.6902056, 0.41529933, -2.342554, 0.8131513,...  \n",
       "1024  [-1.8199894, 0.52040213, -2.000895, 0.7491254,...  \n",
       "9841  [-1.6783788, 0.68062544, -1.7743266, 0.7714877...  \n",
       "1705  [-1.2252358, 0.3327072, -1.0450894, 0.5324713,...  "
      ]
     },
     "execution_count": 22,
     "metadata": {},
     "output_type": "execute_result"
    }
   ],
   "source": [
    "df2[\"new_Text\"]=df[\"Text\"].apply(lambda x: nlp(x).vector)\n",
    "df2.head() "
   ]
  },
  {
   "cell_type": "code",
   "execution_count": 46,
   "id": "d4407a96",
   "metadata": {},
   "outputs": [],
   "source": [
    "import numpy as np"
   ]
  },
  {
   "cell_type": "code",
   "execution_count": 23,
   "id": "1cbec228",
   "metadata": {},
   "outputs": [],
   "source": [
    "from sklearn.model_selection import train_test_split"
   ]
  },
  {
   "cell_type": "code",
   "execution_count": 36,
   "id": "e7fb051f",
   "metadata": {},
   "outputs": [],
   "source": [
    "X_train,X_test,y_train,y_test=train_test_split(df2.new_Text,df2.new_label,test_size=0.2,random_state=2022)"
   ]
  },
  {
   "cell_type": "code",
   "execution_count": 37,
   "id": "3c60610d",
   "metadata": {},
   "outputs": [
    {
     "name": "stdout",
     "output_type": "stream",
     "text": [
      "(4000,) \n",
      " (1000,)\n"
     ]
    }
   ],
   "source": [
    "print(X_train.shape,\"\\n\",X_test.shape)"
   ]
  },
  {
   "cell_type": "code",
   "execution_count": 38,
   "id": "0208801a",
   "metadata": {},
   "outputs": [
    {
     "data": {
      "text/plain": [
       "pandas.core.series.Series"
      ]
     },
     "execution_count": 38,
     "metadata": {},
     "output_type": "execute_result"
    }
   ],
   "source": [
    "type(X_train)"
   ]
  },
  {
   "cell_type": "code",
   "execution_count": 41,
   "id": "a043bded",
   "metadata": {},
   "outputs": [
    {
     "name": "stdout",
     "output_type": "stream",
     "text": [
      "<bound method IndexOpsMixin.to_numpy of 5692    [-2.1422276, 0.8224298, -2.240479, 0.823248, 3...\n",
      "9544    [-2.0290477, -0.235215, -1.7501101, 0.12646157...\n",
      "5244    [-1.5758448, 0.5262747, -1.5854784, 0.7041981,...\n",
      "9876    [-1.8348743, 0.38398865, -0.854471, 1.402717, ...\n",
      "2459    [-2.124521, 0.8069522, -1.7948216, 0.4302283, ...\n",
      "                              ...                        \n",
      "2050    [-2.0400712, 0.43810198, -1.7109013, 0.5301195...\n",
      "9268    [-1.5502478, 0.7025162, -2.31264, 0.4941038, 4...\n",
      "9489    [-2.0990696, 0.38390067, -2.5910773, 1.2703801...\n",
      "290     [-1.689671, 0.5641232, -1.7760613, 0.7424745, ...\n",
      "7654    [-1.4129012, 0.5696112, -2.068751, 0.63792604,...\n",
      "Name: new_Text, Length: 4000, dtype: object>\n"
     ]
    }
   ],
   "source": [
    "print(X_train.to_numpy)"
   ]
  },
  {
   "cell_type": "code",
   "execution_count": 48,
   "id": "59d545c5",
   "metadata": {},
   "outputs": [],
   "source": [
    "X_train_np=np.array(X_train)\n",
    "X_test_np=np.array(X_test)"
   ]
  },
  {
   "cell_type": "code",
   "execution_count": 51,
   "id": "881cbf48",
   "metadata": {},
   "outputs": [
    {
     "data": {
      "text/plain": [
       "array([array([-2.1422276 ,  0.8224298 , -2.240479  ,  0.823248  ,  3.9168851 ,\n",
       "               0.8833827 ,  0.7144498 ,  3.494261  , -0.01878333, -1.2420506 ,\n",
       "               4.805175  ,  1.8634504 , -3.4410195 ,  0.75024533, -0.81299496,\n",
       "               2.3371074 ,  1.2313607 , -0.12768704, -1.8865213 , -1.8351699 ,\n",
       "               0.8401668 , -0.7892957 , -0.8985492 ,  0.6420893 ,  0.09602441,\n",
       "              -1.7004136 , -2.0685759 , -0.28325185, -1.2322954 ,  0.01157351,\n",
       "               1.1283064 ,  0.5272847 , -0.57237905, -1.4020092 , -2.4025126 ,\n",
       "              -0.6063046 , -0.42772737,  0.2640729 ,  0.7988387 ,  0.03539403,\n",
       "               0.24914125, -0.20470883, -0.04427756,  0.5823006 , -2.0563288 ,\n",
       "               1.0607681 ,  1.1484025 , -1.9118663 , -0.86572   ,  2.2959905 ,\n",
       "              -1.1423776 ,  1.6339321 ,  0.04325819, -4.9211087 , -0.5879808 ,\n",
       "               0.44643834,  0.44218823,  0.753043  ,  1.2924336 , -0.24381573,\n",
       "               0.09572282, -1.0429255 ,  0.6312261 , -1.2464225 ,  3.2905338 ,\n",
       "               1.7796432 , -2.3799663 , -2.8709586 ,  0.6250507 ,  2.0787039 ,\n",
       "               0.05392203, -1.2710689 , -1.872548  ,  0.19635989, -0.524632  ,\n",
       "               1.5811543 , -2.5481255 ,  3.0922382 , -3.377379  , -0.49422568,\n",
       "              -4.1542954 , -0.5825225 ,  0.48303455,  1.2865275 ,  1.3865609 ,\n",
       "               0.01062804, -2.558857  , -2.9263017 ,  1.4115486 , -1.0125475 ,\n",
       "              -0.87941873,  0.01404361,  1.2862931 , -3.0101416 ,  1.2805092 ,\n",
       "              -0.50018454,  0.8258603 , -0.3767578 ,  0.95553136,  2.1510606 ,\n",
       "               2.609139  ,  1.3744985 ,  2.277193  ,  3.3276296 , -0.40848595,\n",
       "               3.6713462 ,  0.8221831 , -2.9569094 , -0.15250388, -4.3947687 ,\n",
       "               1.309336  ,  1.0164969 , -1.0388167 ,  1.1349864 ,  0.67241436,\n",
       "               0.6604889 , -0.82326174, -1.118431  ,  0.14457153, -1.156855  ,\n",
       "              -0.6171935 , -3.298975  ,  0.96358055,  0.48277867, -0.41619903,\n",
       "              -3.1273744 ,  1.4665174 , -1.8359432 ,  2.64384   , -1.9179564 ,\n",
       "              -3.262822  , -0.71807235,  3.3933644 , -0.23387697,  0.06746794,\n",
       "               0.5631828 , -1.5200049 , -0.2897455 ,  2.3344095 , -1.7012626 ,\n",
       "              -2.7522075 , -1.4118395 ,  0.46246603,  1.3982202 ,  0.6839242 ,\n",
       "               0.8734873 , -3.453275  ,  0.5373967 ,  0.6581027 ,  0.8557393 ,\n",
       "              -0.10483549,  3.009526  , -0.07164933,  1.6941724 , -0.8989521 ,\n",
       "               0.31043798,  2.484315  , -1.2172611 , -2.8050518 , -1.4220576 ,\n",
       "              -0.96596706, -2.856872  , -0.06027309,  1.9264156 , -1.7374803 ,\n",
       "              -1.8608587 , -4.435054  ,  1.787177  ,  0.481656  , -0.39928487,\n",
       "               1.2175632 ,  0.20690857,  1.993308  , -0.15933767,  1.5741745 ,\n",
       "               0.48152223,  0.3580823 , -0.9599657 , -2.581438  , -1.7555158 ,\n",
       "              -0.8774783 ,  0.15644215,  1.1320106 ,  0.5196625 , -0.87759495,\n",
       "               1.0089971 , -1.4402078 ,  0.5886233 ,  1.664281  ,  1.8495022 ,\n",
       "               0.1513387 , -1.7729511 , -0.46018314, -1.4209524 , -0.37689036,\n",
       "               0.9203687 , -2.8634248 , -0.7516468 , -0.41039255,  1.1983374 ,\n",
       "              -1.6584456 , -1.2325773 ,  0.4317588 , -2.6503177 ,  3.2077734 ,\n",
       "               0.37842903, -3.0103312 ,  1.5946647 , -0.20708255, -0.2115064 ,\n",
       "               1.0590872 ,  0.23078589, -1.6858692 ,  1.7119614 ,  1.1472234 ,\n",
       "               2.4274254 ,  1.1790135 , -1.7880574 ,  0.21993437,  0.09467798,\n",
       "              -2.1032443 ,  0.84234256, -0.6914361 , -0.24325468, -1.7341465 ,\n",
       "              -1.110133  ,  0.21332195,  2.41098   ,  0.1981877 , -0.45772868,\n",
       "               2.9033685 , -2.1179037 , -0.6205015 ,  0.89721847,  2.649275  ,\n",
       "               1.3989421 , -1.5842197 ,  0.90532976, -0.38888386, -0.46254995,\n",
       "              -0.9926503 ,  0.5760093 ,  1.6850842 ,  0.37908208, -1.3520395 ,\n",
       "               2.5845706 , -2.118698  ,  0.37355924,  0.03229212,  2.2738214 ,\n",
       "               0.8532314 , -3.0957901 , -4.453417  , -0.7243311 ,  0.50699663,\n",
       "              -2.6973166 ,  1.85882   , -1.0752974 ,  0.20754398,  1.2035317 ,\n",
       "              -0.4698227 ,  4.49127   ,  2.1011105 ,  2.2631078 ,  1.8195609 ,\n",
       "              -0.88944036,  0.585967  ,  2.1022952 , -3.2686384 , -0.39012614,\n",
       "              -0.49290216,  0.27054653,  0.8312377 , -2.0700207 ,  0.80815876,\n",
       "              -1.0130001 ,  1.3421725 , -2.041355  , -1.4396553 ,  1.9368005 ,\n",
       "               1.4385726 ,  0.37588504, -0.12653457,  0.92112595,  2.599402  ,\n",
       "              -0.4719428 ,  1.1660713 ,  1.2565958 , -1.0944788 , -0.09856723,\n",
       "               0.23346712, -0.2841204 , -1.2939066 ,  0.47966856, -1.5325089 ,\n",
       "               1.3516555 ,  0.8859496 , -1.0885648 , -1.7267455 ,  1.1315336 ],\n",
       "             dtype=float32)                                                    ],\n",
       "      dtype=object)"
      ]
     },
     "execution_count": 51,
     "metadata": {},
     "output_type": "execute_result"
    }
   ],
   "source": [
    "X_train_np[0:1]"
   ]
  },
  {
   "cell_type": "code",
   "execution_count": 53,
   "id": "8e2b7169",
   "metadata": {},
   "outputs": [],
   "source": [
    "X_train_2d=np.stack(X_train_np)\n",
    "X_test_2d=np.stack(X_test_np)"
   ]
  },
  {
   "cell_type": "code",
   "execution_count": 55,
   "id": "de5a5e4f",
   "metadata": {},
   "outputs": [
    {
     "data": {
      "text/plain": [
       "array([[-2.1422276 ,  0.8224298 , -2.240479  ,  0.823248  ,  3.9168851 ,\n",
       "         0.8833827 ,  0.7144498 ,  3.494261  , -0.01878333, -1.2420506 ,\n",
       "         4.805175  ,  1.8634504 , -3.4410195 ,  0.75024533, -0.81299496,\n",
       "         2.3371074 ,  1.2313607 , -0.12768704, -1.8865213 , -1.8351699 ,\n",
       "         0.8401668 , -0.7892957 , -0.8985492 ,  0.6420893 ,  0.09602441,\n",
       "        -1.7004136 , -2.0685759 , -0.28325185, -1.2322954 ,  0.01157351,\n",
       "         1.1283064 ,  0.5272847 , -0.57237905, -1.4020092 , -2.4025126 ,\n",
       "        -0.6063046 , -0.42772737,  0.2640729 ,  0.7988387 ,  0.03539403,\n",
       "         0.24914125, -0.20470883, -0.04427756,  0.5823006 , -2.0563288 ,\n",
       "         1.0607681 ,  1.1484025 , -1.9118663 , -0.86572   ,  2.2959905 ,\n",
       "        -1.1423776 ,  1.6339321 ,  0.04325819, -4.9211087 , -0.5879808 ,\n",
       "         0.44643834,  0.44218823,  0.753043  ,  1.2924336 , -0.24381573,\n",
       "         0.09572282, -1.0429255 ,  0.6312261 , -1.2464225 ,  3.2905338 ,\n",
       "         1.7796432 , -2.3799663 , -2.8709586 ,  0.6250507 ,  2.0787039 ,\n",
       "         0.05392203, -1.2710689 , -1.872548  ,  0.19635989, -0.524632  ,\n",
       "         1.5811543 , -2.5481255 ,  3.0922382 , -3.377379  , -0.49422568,\n",
       "        -4.1542954 , -0.5825225 ,  0.48303455,  1.2865275 ,  1.3865609 ,\n",
       "         0.01062804, -2.558857  , -2.9263017 ,  1.4115486 , -1.0125475 ,\n",
       "        -0.87941873,  0.01404361,  1.2862931 , -3.0101416 ,  1.2805092 ,\n",
       "        -0.50018454,  0.8258603 , -0.3767578 ,  0.95553136,  2.1510606 ,\n",
       "         2.609139  ,  1.3744985 ,  2.277193  ,  3.3276296 , -0.40848595,\n",
       "         3.6713462 ,  0.8221831 , -2.9569094 , -0.15250388, -4.3947687 ,\n",
       "         1.309336  ,  1.0164969 , -1.0388167 ,  1.1349864 ,  0.67241436,\n",
       "         0.6604889 , -0.82326174, -1.118431  ,  0.14457153, -1.156855  ,\n",
       "        -0.6171935 , -3.298975  ,  0.96358055,  0.48277867, -0.41619903,\n",
       "        -3.1273744 ,  1.4665174 , -1.8359432 ,  2.64384   , -1.9179564 ,\n",
       "        -3.262822  , -0.71807235,  3.3933644 , -0.23387697,  0.06746794,\n",
       "         0.5631828 , -1.5200049 , -0.2897455 ,  2.3344095 , -1.7012626 ,\n",
       "        -2.7522075 , -1.4118395 ,  0.46246603,  1.3982202 ,  0.6839242 ,\n",
       "         0.8734873 , -3.453275  ,  0.5373967 ,  0.6581027 ,  0.8557393 ,\n",
       "        -0.10483549,  3.009526  , -0.07164933,  1.6941724 , -0.8989521 ,\n",
       "         0.31043798,  2.484315  , -1.2172611 , -2.8050518 , -1.4220576 ,\n",
       "        -0.96596706, -2.856872  , -0.06027309,  1.9264156 , -1.7374803 ,\n",
       "        -1.8608587 , -4.435054  ,  1.787177  ,  0.481656  , -0.39928487,\n",
       "         1.2175632 ,  0.20690857,  1.993308  , -0.15933767,  1.5741745 ,\n",
       "         0.48152223,  0.3580823 , -0.9599657 , -2.581438  , -1.7555158 ,\n",
       "        -0.8774783 ,  0.15644215,  1.1320106 ,  0.5196625 , -0.87759495,\n",
       "         1.0089971 , -1.4402078 ,  0.5886233 ,  1.664281  ,  1.8495022 ,\n",
       "         0.1513387 , -1.7729511 , -0.46018314, -1.4209524 , -0.37689036,\n",
       "         0.9203687 , -2.8634248 , -0.7516468 , -0.41039255,  1.1983374 ,\n",
       "        -1.6584456 , -1.2325773 ,  0.4317588 , -2.6503177 ,  3.2077734 ,\n",
       "         0.37842903, -3.0103312 ,  1.5946647 , -0.20708255, -0.2115064 ,\n",
       "         1.0590872 ,  0.23078589, -1.6858692 ,  1.7119614 ,  1.1472234 ,\n",
       "         2.4274254 ,  1.1790135 , -1.7880574 ,  0.21993437,  0.09467798,\n",
       "        -2.1032443 ,  0.84234256, -0.6914361 , -0.24325468, -1.7341465 ,\n",
       "        -1.110133  ,  0.21332195,  2.41098   ,  0.1981877 , -0.45772868,\n",
       "         2.9033685 , -2.1179037 , -0.6205015 ,  0.89721847,  2.649275  ,\n",
       "         1.3989421 , -1.5842197 ,  0.90532976, -0.38888386, -0.46254995,\n",
       "        -0.9926503 ,  0.5760093 ,  1.6850842 ,  0.37908208, -1.3520395 ,\n",
       "         2.5845706 , -2.118698  ,  0.37355924,  0.03229212,  2.2738214 ,\n",
       "         0.8532314 , -3.0957901 , -4.453417  , -0.7243311 ,  0.50699663,\n",
       "        -2.6973166 ,  1.85882   , -1.0752974 ,  0.20754398,  1.2035317 ,\n",
       "        -0.4698227 ,  4.49127   ,  2.1011105 ,  2.2631078 ,  1.8195609 ,\n",
       "        -0.88944036,  0.585967  ,  2.1022952 , -3.2686384 , -0.39012614,\n",
       "        -0.49290216,  0.27054653,  0.8312377 , -2.0700207 ,  0.80815876,\n",
       "        -1.0130001 ,  1.3421725 , -2.041355  , -1.4396553 ,  1.9368005 ,\n",
       "         1.4385726 ,  0.37588504, -0.12653457,  0.92112595,  2.599402  ,\n",
       "        -0.4719428 ,  1.1660713 ,  1.2565958 , -1.0944788 , -0.09856723,\n",
       "         0.23346712, -0.2841204 , -1.2939066 ,  0.47966856, -1.5325089 ,\n",
       "         1.3516555 ,  0.8859496 , -1.0885648 , -1.7267455 ,  1.1315336 ]],\n",
       "      dtype=float32)"
      ]
     },
     "execution_count": 55,
     "metadata": {},
     "output_type": "execute_result"
    }
   ],
   "source": [
    "X_train_2d[0:1]"
   ]
  },
  {
   "cell_type": "code",
   "execution_count": 56,
   "id": "641fa33a",
   "metadata": {},
   "outputs": [
    {
     "data": {
      "text/plain": [
       "array([[-1.3270383 ,  0.8310328 , -2.267197  , -0.22568832,  3.319345  ,\n",
       "         0.7373403 ,  0.27768353,  3.6709852 , -0.6895844 , -0.7134749 ,\n",
       "         5.2343225 ,  1.2788119 , -2.8174236 ,  0.91853595,  1.2657422 ,\n",
       "         1.2732908 ,  1.1450319 , -0.69280404, -1.1790406 , -1.4760139 ,\n",
       "         1.2050961 , -0.5151069 , -0.7131796 , -1.1581191 , -0.3247481 ,\n",
       "        -1.5280648 , -2.032336  , -0.75554585, -0.5022736 ,  1.2466236 ,\n",
       "         0.5674217 , -0.84411335, -0.65118754, -1.4719832 , -2.2243714 ,\n",
       "        -0.68892413, -0.40162462,  0.8006176 ,  1.2917933 ,  0.7809402 ,\n",
       "        -0.00714016,  0.15896076,  0.2813203 , -0.4079969 , -1.5677242 ,\n",
       "         1.412211  ,  0.675602  , -2.9148457 , -1.0322669 ,  2.1949081 ,\n",
       "        -1.1666634 ,  1.2792699 ,  0.48277   , -4.291944  , -0.6833122 ,\n",
       "         0.30598125,  0.0893176 ,  1.2058576 ,  0.78802276,  0.22884935,\n",
       "         1.0751715 , -0.79484975,  0.12464338, -1.6673778 ,  1.5548854 ,\n",
       "         1.3163705 , -2.8753643 , -3.1997602 ,  0.81999546,  2.0483766 ,\n",
       "        -0.4626983 , -0.70510554, -1.986845  , -0.25331232,  0.2069617 ,\n",
       "         1.0485196 , -3.0687768 ,  1.8370659 , -2.3173866 , -0.4804964 ,\n",
       "        -3.754317  , -0.62144107,  1.373913  ,  0.4793061 ,  2.3253036 ,\n",
       "        -0.11899406, -1.3243666 , -2.5551655 ,  0.9705658 , -0.68701017,\n",
       "        -1.1344758 , -0.24991688,  1.5146658 , -3.710669  ,  0.78080374,\n",
       "        -1.6853324 ,  0.9654894 , -1.1851938 ,  0.9777887 ,  0.6414108 ,\n",
       "         1.6600282 ,  1.4868052 ,  2.1884902 ,  2.6131833 , -0.55563897,\n",
       "         3.1019354 , -0.4408324 , -1.4734379 , -0.5572054 , -2.3268056 ,\n",
       "         0.58864105,  0.15431285, -0.8224032 ,  0.8678227 ,  0.85898614,\n",
       "         0.64686006, -0.82822704, -0.35689425,  0.12228409, -0.85692364,\n",
       "        -1.1001711 , -2.5714934 , -0.1553948 ,  1.1533397 , -0.7831975 ,\n",
       "        -2.6872554 ,  1.2301093 , -1.9460711 ,  2.2723253 , -0.9933264 ,\n",
       "        -2.0591054 , -0.11561058,  3.4858124 , -0.90567786,  0.11730847,\n",
       "         0.7768058 , -1.6895849 , -1.2756516 ,  3.1847675 , -2.015603  ,\n",
       "        -1.9328241 , -0.7283043 ,  0.4772424 ,  1.5536373 ,  0.24866436,\n",
       "         0.20865087, -3.095975  ,  0.09590197,  0.8608363 ,  0.74284834,\n",
       "        -0.27321032,  2.0403771 , -0.0199341 ,  1.5501964 , -1.5258247 ,\n",
       "         1.1280639 ,  2.750164  , -0.15386775, -1.8865758 , -1.0431966 ,\n",
       "        -0.40925753, -2.3100762 , -0.72878   ,  1.4534267 , -2.2260063 ,\n",
       "        -1.5928427 , -3.204181  ,  1.0398291 , -0.6847197 ,  0.37159303,\n",
       "         1.3774915 , -0.2749408 ,  2.1499217 ,  0.57053113,  1.7679589 ,\n",
       "        -0.3088287 , -0.29686555,  0.23714955, -1.7811044 , -1.5909488 ,\n",
       "        -0.6545671 ,  0.29179218,  1.9352765 , -0.85302985, -1.5194871 ,\n",
       "         0.7943663 , -1.3794076 , -1.0406728 ,  1.1511761 ,  1.9867553 ,\n",
       "        -0.27885363, -0.7765772 , -0.56992257, -0.94434917, -0.21937895,\n",
       "        -0.4879035 , -2.3467476 , -0.04339871,  0.02507393,  1.237062  ,\n",
       "        -1.0214437 , -1.1274364 , -0.61645323, -2.068199  ,  1.3943098 ,\n",
       "         0.8289341 , -2.9717762 ,  0.8077946 , -0.26784918, -0.74265087,\n",
       "         1.4011315 ,  0.22152306, -0.89403963,  1.6750538 ,  0.39068395,\n",
       "         2.2183514 ,  0.03564487, -1.8021438 , -0.42584148,  0.21900281,\n",
       "        -1.9784962 ,  0.65136397,  0.06432974,  1.0690311 , -1.257982  ,\n",
       "        -0.97570384,  0.5756389 ,  2.1495824 ,  1.8941776 ,  0.46594673,\n",
       "         1.0027792 , -2.2684822 , -0.2967855 ,  0.8708717 ,  1.42804   ,\n",
       "         1.2321779 , -1.4625738 ,  0.98194224, -0.18320769, -0.33531484,\n",
       "        -0.79140186,  0.66092587,  1.6937921 , -0.15289101, -0.80654955,\n",
       "         0.91207933, -2.076948  , -0.0462875 ,  0.38524634,  2.2634265 ,\n",
       "         0.3039078 , -1.2112354 , -4.5903854 , -0.24063241,  0.44227815,\n",
       "        -2.3671339 ,  1.7945964 ,  0.24020296, -0.24488245,  1.1426778 ,\n",
       "         0.09283338,  3.718751  ,  2.5608168 ,  2.0238795 ,  1.3376122 ,\n",
       "        -0.0177595 ,  0.01086018,  1.8691106 , -3.3745236 , -0.04144746,\n",
       "         0.9814907 , -0.76875645,  0.14322644, -1.5749371 ,  0.5693749 ,\n",
       "        -0.8235199 ,  1.793129  , -1.2862735 , -0.88667053,  1.9644431 ,\n",
       "         0.312158  , -0.272998  ,  0.59892875,  1.0682716 ,  2.8786302 ,\n",
       "        -0.50197023,  0.17728189,  1.046573  , -1.5849319 ,  0.30667576,\n",
       "         0.5725389 , -1.0049877 ,  0.5705462 , -0.7488379 , -1.3013669 ,\n",
       "         0.8094902 ,  1.0549927 , -0.21192624, -2.900497  ,  1.1237562 ]],\n",
       "      dtype=float32)"
      ]
     },
     "execution_count": 56,
     "metadata": {},
     "output_type": "execute_result"
    }
   ],
   "source": [
    "X_test_2d[0:1]"
   ]
  },
  {
   "cell_type": "code",
   "execution_count": 58,
   "id": "5c2314d5",
   "metadata": {},
   "outputs": [],
   "source": [
    "from sklearn.naive_bayes import MultinomialNB\n",
    "from sklearn.preprocessing import MinMaxScaler"
   ]
  },
  {
   "cell_type": "code",
   "execution_count": null,
   "id": "9f75497d",
   "metadata": {},
   "outputs": [],
   "source": [
    "# asagdaki islemi yapmamizin nedeni multinomial naive bayes negatif sayıları kabul etmemesi"
   ]
  },
  {
   "cell_type": "code",
   "execution_count": 60,
   "id": "6aed48e3",
   "metadata": {},
   "outputs": [],
   "source": [
    "scaler=MinMaxScaler()\n",
    "xtrain_scaled=scaler.fit_transform(X_train_2d)\n",
    "xtest_scaled=scaler.fit_transform(X_test_2d)"
   ]
  },
  {
   "cell_type": "code",
   "execution_count": 61,
   "id": "17499883",
   "metadata": {},
   "outputs": [
    {
     "data": {
      "text/html": [
       "<style>#sk-container-id-1 {color: black;background-color: white;}#sk-container-id-1 pre{padding: 0;}#sk-container-id-1 div.sk-toggleable {background-color: white;}#sk-container-id-1 label.sk-toggleable__label {cursor: pointer;display: block;width: 100%;margin-bottom: 0;padding: 0.3em;box-sizing: border-box;text-align: center;}#sk-container-id-1 label.sk-toggleable__label-arrow:before {content: \"▸\";float: left;margin-right: 0.25em;color: #696969;}#sk-container-id-1 label.sk-toggleable__label-arrow:hover:before {color: black;}#sk-container-id-1 div.sk-estimator:hover label.sk-toggleable__label-arrow:before {color: black;}#sk-container-id-1 div.sk-toggleable__content {max-height: 0;max-width: 0;overflow: hidden;text-align: left;background-color: #f0f8ff;}#sk-container-id-1 div.sk-toggleable__content pre {margin: 0.2em;color: black;border-radius: 0.25em;background-color: #f0f8ff;}#sk-container-id-1 input.sk-toggleable__control:checked~div.sk-toggleable__content {max-height: 200px;max-width: 100%;overflow: auto;}#sk-container-id-1 input.sk-toggleable__control:checked~label.sk-toggleable__label-arrow:before {content: \"▾\";}#sk-container-id-1 div.sk-estimator input.sk-toggleable__control:checked~label.sk-toggleable__label {background-color: #d4ebff;}#sk-container-id-1 div.sk-label input.sk-toggleable__control:checked~label.sk-toggleable__label {background-color: #d4ebff;}#sk-container-id-1 input.sk-hidden--visually {border: 0;clip: rect(1px 1px 1px 1px);clip: rect(1px, 1px, 1px, 1px);height: 1px;margin: -1px;overflow: hidden;padding: 0;position: absolute;width: 1px;}#sk-container-id-1 div.sk-estimator {font-family: monospace;background-color: #f0f8ff;border: 1px dotted black;border-radius: 0.25em;box-sizing: border-box;margin-bottom: 0.5em;}#sk-container-id-1 div.sk-estimator:hover {background-color: #d4ebff;}#sk-container-id-1 div.sk-parallel-item::after {content: \"\";width: 100%;border-bottom: 1px solid gray;flex-grow: 1;}#sk-container-id-1 div.sk-label:hover label.sk-toggleable__label {background-color: #d4ebff;}#sk-container-id-1 div.sk-serial::before {content: \"\";position: absolute;border-left: 1px solid gray;box-sizing: border-box;top: 0;bottom: 0;left: 50%;z-index: 0;}#sk-container-id-1 div.sk-serial {display: flex;flex-direction: column;align-items: center;background-color: white;padding-right: 0.2em;padding-left: 0.2em;position: relative;}#sk-container-id-1 div.sk-item {position: relative;z-index: 1;}#sk-container-id-1 div.sk-parallel {display: flex;align-items: stretch;justify-content: center;background-color: white;position: relative;}#sk-container-id-1 div.sk-item::before, #sk-container-id-1 div.sk-parallel-item::before {content: \"\";position: absolute;border-left: 1px solid gray;box-sizing: border-box;top: 0;bottom: 0;left: 50%;z-index: -1;}#sk-container-id-1 div.sk-parallel-item {display: flex;flex-direction: column;z-index: 1;position: relative;background-color: white;}#sk-container-id-1 div.sk-parallel-item:first-child::after {align-self: flex-end;width: 50%;}#sk-container-id-1 div.sk-parallel-item:last-child::after {align-self: flex-start;width: 50%;}#sk-container-id-1 div.sk-parallel-item:only-child::after {width: 0;}#sk-container-id-1 div.sk-dashed-wrapped {border: 1px dashed gray;margin: 0 0.4em 0.5em 0.4em;box-sizing: border-box;padding-bottom: 0.4em;background-color: white;}#sk-container-id-1 div.sk-label label {font-family: monospace;font-weight: bold;display: inline-block;line-height: 1.2em;}#sk-container-id-1 div.sk-label-container {text-align: center;}#sk-container-id-1 div.sk-container {/* jupyter's `normalize.less` sets `[hidden] { display: none; }` but bootstrap.min.css set `[hidden] { display: none !important; }` so we also need the `!important` here to be able to override the default hidden behavior on the sphinx rendered scikit-learn.org. See: https://github.com/scikit-learn/scikit-learn/issues/21755 */display: inline-block !important;position: relative;}#sk-container-id-1 div.sk-text-repr-fallback {display: none;}</style><div id=\"sk-container-id-1\" class=\"sk-top-container\"><div class=\"sk-text-repr-fallback\"><pre>MultinomialNB()</pre><b>In a Jupyter environment, please rerun this cell to show the HTML representation or trust the notebook. <br />On GitHub, the HTML representation is unable to render, please try loading this page with nbviewer.org.</b></div><div class=\"sk-container\" hidden><div class=\"sk-item\"><div class=\"sk-estimator sk-toggleable\"><input class=\"sk-toggleable__control sk-hidden--visually\" id=\"sk-estimator-id-1\" type=\"checkbox\" checked><label for=\"sk-estimator-id-1\" class=\"sk-toggleable__label sk-toggleable__label-arrow\">MultinomialNB</label><div class=\"sk-toggleable__content\"><pre>MultinomialNB()</pre></div></div></div></div></div>"
      ],
      "text/plain": [
       "MultinomialNB()"
      ]
     },
     "execution_count": 61,
     "metadata": {},
     "output_type": "execute_result"
    }
   ],
   "source": [
    "clf=MultinomialNB()\n",
    "clf.fit(xtrain_scaled,y_train)"
   ]
  },
  {
   "cell_type": "code",
   "execution_count": 62,
   "id": "dfb6e824",
   "metadata": {},
   "outputs": [],
   "source": [
    "y_pred=clf.predict(xtest_scaled)"
   ]
  },
  {
   "cell_type": "code",
   "execution_count": 63,
   "id": "ef901dd8",
   "metadata": {},
   "outputs": [
    {
     "name": "stdout",
     "output_type": "stream",
     "text": [
      "              precision    recall  f1-score   support\n",
      "\n",
      "           0       0.95      0.93      0.94       517\n",
      "           1       0.93      0.95      0.94       483\n",
      "\n",
      "    accuracy                           0.94      1000\n",
      "   macro avg       0.94      0.94      0.94      1000\n",
      "weighted avg       0.94      0.94      0.94      1000\n",
      "\n"
     ]
    }
   ],
   "source": [
    "from sklearn.metrics import classification_report\n",
    "\n",
    "print(classification_report(y_test,y_pred))"
   ]
  },
  {
   "cell_type": "code",
   "execution_count": null,
   "id": "8a855376",
   "metadata": {},
   "outputs": [],
   "source": [
    "# knn  negatif sayilari kabul ediyor"
   ]
  },
  {
   "cell_type": "code",
   "execution_count": 64,
   "id": "c8b5a98d",
   "metadata": {},
   "outputs": [],
   "source": [
    "from sklearn.neighbors import KNeighborsClassifier"
   ]
  },
  {
   "cell_type": "code",
   "execution_count": 65,
   "id": "dfba301a",
   "metadata": {},
   "outputs": [
    {
     "name": "stdout",
     "output_type": "stream",
     "text": [
      "              precision    recall  f1-score   support\n",
      "\n",
      "           0       0.99      0.99      0.99       517\n",
      "           1       0.99      0.99      0.99       483\n",
      "\n",
      "    accuracy                           0.99      1000\n",
      "   macro avg       0.99      0.99      0.99      1000\n",
      "weighted avg       0.99      0.99      0.99      1000\n",
      "\n"
     ]
    }
   ],
   "source": [
    "clf=KNeighborsClassifier(n_neighbors=5,metric='euclidean')\n",
    "\n",
    "clf.fit(X_train_2d,y_train)\n",
    "\n",
    "y_pred=clf.predict(X_test_2d)\n",
    "\n",
    "print(classification_report(y_test,y_pred))"
   ]
  },
  {
   "cell_type": "code",
   "execution_count": null,
   "id": "546cb981",
   "metadata": {},
   "outputs": [],
   "source": []
  }
 ],
 "metadata": {
  "kernelspec": {
   "display_name": "Python 3 (ipykernel)",
   "language": "python",
   "name": "python3"
  },
  "language_info": {
   "codemirror_mode": {
    "name": "ipython",
    "version": 3
   },
   "file_extension": ".py",
   "mimetype": "text/x-python",
   "name": "python",
   "nbconvert_exporter": "python",
   "pygments_lexer": "ipython3",
   "version": "3.9.7"
  }
 },
 "nbformat": 4,
 "nbformat_minor": 5
}
