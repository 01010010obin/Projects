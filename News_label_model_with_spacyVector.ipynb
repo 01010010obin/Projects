{
 "cells": [
  {
   "cell_type": "code",
   "execution_count": 1,
   "id": "a1e3644d",
   "metadata": {},
   "outputs": [],
   "source": [
    "import pandas as pd\n",
    "import spacy\n",
    "import numpy as np"
   ]
  },
  {
   "cell_type": "code",
   "execution_count": 2,
   "id": "8b9da469",
   "metadata": {},
   "outputs": [
    {
     "data": {
      "text/html": [
       "<div>\n",
       "<style scoped>\n",
       "    .dataframe tbody tr th:only-of-type {\n",
       "        vertical-align: middle;\n",
       "    }\n",
       "\n",
       "    .dataframe tbody tr th {\n",
       "        vertical-align: top;\n",
       "    }\n",
       "\n",
       "    .dataframe thead th {\n",
       "        text-align: right;\n",
       "    }\n",
       "</style>\n",
       "<table border=\"1\" class=\"dataframe\">\n",
       "  <thead>\n",
       "    <tr style=\"text-align: right;\">\n",
       "      <th></th>\n",
       "      <th>text</th>\n",
       "      <th>category</th>\n",
       "    </tr>\n",
       "  </thead>\n",
       "  <tbody>\n",
       "    <tr>\n",
       "      <th>0</th>\n",
       "      <td>Watching Schrödinger's Cat Die University of C...</td>\n",
       "      <td>SCIENCE</td>\n",
       "    </tr>\n",
       "    <tr>\n",
       "      <th>1</th>\n",
       "      <td>WATCH: Freaky Vortex Opens Up In Flooded Lake</td>\n",
       "      <td>SCIENCE</td>\n",
       "    </tr>\n",
       "    <tr>\n",
       "      <th>2</th>\n",
       "      <td>Entrepreneurs Today Don't Need a Big Budget to...</td>\n",
       "      <td>BUSINESS</td>\n",
       "    </tr>\n",
       "    <tr>\n",
       "      <th>3</th>\n",
       "      <td>These Roads Could Recharge Your Electric Car A...</td>\n",
       "      <td>BUSINESS</td>\n",
       "    </tr>\n",
       "    <tr>\n",
       "      <th>4</th>\n",
       "      <td>Civilian 'Guard' Fires Gun While 'Protecting' ...</td>\n",
       "      <td>CRIME</td>\n",
       "    </tr>\n",
       "  </tbody>\n",
       "</table>\n",
       "</div>"
      ],
      "text/plain": [
       "                                                text  category\n",
       "0  Watching Schrödinger's Cat Die University of C...   SCIENCE\n",
       "1     WATCH: Freaky Vortex Opens Up In Flooded Lake    SCIENCE\n",
       "2  Entrepreneurs Today Don't Need a Big Budget to...  BUSINESS\n",
       "3  These Roads Could Recharge Your Electric Car A...  BUSINESS\n",
       "4  Civilian 'Guard' Fires Gun While 'Protecting' ...     CRIME"
      ]
     },
     "execution_count": 2,
     "metadata": {},
     "output_type": "execute_result"
    }
   ],
   "source": [
    "df=pd.read_json(\"news_dataset.json\")\n",
    "df.head()"
   ]
  },
  {
   "cell_type": "code",
   "execution_count": 3,
   "id": "436d74f0",
   "metadata": {},
   "outputs": [
    {
     "data": {
      "text/plain": [
       "(12695, 2)"
      ]
     },
     "execution_count": 3,
     "metadata": {},
     "output_type": "execute_result"
    }
   ],
   "source": [
    "df.shape"
   ]
  },
  {
   "cell_type": "code",
   "execution_count": 4,
   "id": "454b1497",
   "metadata": {},
   "outputs": [
    {
     "data": {
      "text/plain": [
       "text        0\n",
       "category    0\n",
       "dtype: int64"
      ]
     },
     "execution_count": 4,
     "metadata": {},
     "output_type": "execute_result"
    }
   ],
   "source": [
    "df.isnull().sum()"
   ]
  },
  {
   "cell_type": "code",
   "execution_count": 5,
   "id": "c7ca0279",
   "metadata": {},
   "outputs": [
    {
     "name": "stdout",
     "output_type": "stream",
     "text": [
      "<class 'pandas.core.frame.DataFrame'>\n",
      "Int64Index: 12695 entries, 0 to 12694\n",
      "Data columns (total 2 columns):\n",
      " #   Column    Non-Null Count  Dtype \n",
      "---  ------    --------------  ----- \n",
      " 0   text      12695 non-null  object\n",
      " 1   category  12695 non-null  object\n",
      "dtypes: object(2)\n",
      "memory usage: 297.5+ KB\n"
     ]
    }
   ],
   "source": [
    "df.info()"
   ]
  },
  {
   "cell_type": "code",
   "execution_count": 6,
   "id": "dffa2851",
   "metadata": {},
   "outputs": [
    {
     "data": {
      "text/plain": [
       "array(['SCIENCE', 'BUSINESS', 'CRIME', 'SPORTS'], dtype=object)"
      ]
     },
     "execution_count": 6,
     "metadata": {},
     "output_type": "execute_result"
    }
   ],
   "source": [
    "df.category.unique()"
   ]
  },
  {
   "cell_type": "code",
   "execution_count": 7,
   "id": "31c20d71",
   "metadata": {},
   "outputs": [
    {
     "data": {
      "text/html": [
       "<div>\n",
       "<style scoped>\n",
       "    .dataframe tbody tr th:only-of-type {\n",
       "        vertical-align: middle;\n",
       "    }\n",
       "\n",
       "    .dataframe tbody tr th {\n",
       "        vertical-align: top;\n",
       "    }\n",
       "\n",
       "    .dataframe thead th {\n",
       "        text-align: right;\n",
       "    }\n",
       "</style>\n",
       "<table border=\"1\" class=\"dataframe\">\n",
       "  <thead>\n",
       "    <tr style=\"text-align: right;\">\n",
       "      <th></th>\n",
       "      <th>text</th>\n",
       "      <th>category</th>\n",
       "      <th>new_category</th>\n",
       "    </tr>\n",
       "  </thead>\n",
       "  <tbody>\n",
       "    <tr>\n",
       "      <th>0</th>\n",
       "      <td>Watching Schrödinger's Cat Die University of C...</td>\n",
       "      <td>SCIENCE</td>\n",
       "      <td>0</td>\n",
       "    </tr>\n",
       "    <tr>\n",
       "      <th>1</th>\n",
       "      <td>WATCH: Freaky Vortex Opens Up In Flooded Lake</td>\n",
       "      <td>SCIENCE</td>\n",
       "      <td>0</td>\n",
       "    </tr>\n",
       "    <tr>\n",
       "      <th>2</th>\n",
       "      <td>Entrepreneurs Today Don't Need a Big Budget to...</td>\n",
       "      <td>BUSINESS</td>\n",
       "      <td>1</td>\n",
       "    </tr>\n",
       "    <tr>\n",
       "      <th>3</th>\n",
       "      <td>These Roads Could Recharge Your Electric Car A...</td>\n",
       "      <td>BUSINESS</td>\n",
       "      <td>1</td>\n",
       "    </tr>\n",
       "    <tr>\n",
       "      <th>4</th>\n",
       "      <td>Civilian 'Guard' Fires Gun While 'Protecting' ...</td>\n",
       "      <td>CRIME</td>\n",
       "      <td>2</td>\n",
       "    </tr>\n",
       "  </tbody>\n",
       "</table>\n",
       "</div>"
      ],
      "text/plain": [
       "                                                text  category  new_category\n",
       "0  Watching Schrödinger's Cat Die University of C...   SCIENCE             0\n",
       "1     WATCH: Freaky Vortex Opens Up In Flooded Lake    SCIENCE             0\n",
       "2  Entrepreneurs Today Don't Need a Big Budget to...  BUSINESS             1\n",
       "3  These Roads Could Recharge Your Electric Car A...  BUSINESS             1\n",
       "4  Civilian 'Guard' Fires Gun While 'Protecting' ...     CRIME             2"
      ]
     },
     "execution_count": 7,
     "metadata": {},
     "output_type": "execute_result"
    }
   ],
   "source": [
    "df[\"new_category\"]=df[\"category\"].map({'SCIENCE':0,'BUSINESS':1,'CRIME':2,'SPORTS':3})\n",
    "df.head()"
   ]
  },
  {
   "cell_type": "code",
   "execution_count": 8,
   "id": "4919638d",
   "metadata": {},
   "outputs": [
    {
     "data": {
      "text/plain": [
       "array([0, 1, 2, 3], dtype=int64)"
      ]
     },
     "execution_count": 8,
     "metadata": {},
     "output_type": "execute_result"
    }
   ],
   "source": [
    "df.new_category.unique()"
   ]
  },
  {
   "cell_type": "code",
   "execution_count": 9,
   "id": "1ee34640",
   "metadata": {},
   "outputs": [
    {
     "data": {
      "text/plain": [
       "1    4254\n",
       "3    4167\n",
       "2    2893\n",
       "0    1381\n",
       "Name: new_category, dtype: int64"
      ]
     },
     "execution_count": 9,
     "metadata": {},
     "output_type": "execute_result"
    }
   ],
   "source": [
    "df.new_category.value_counts()"
   ]
  },
  {
   "cell_type": "code",
   "execution_count": 11,
   "id": "cdafb40a",
   "metadata": {},
   "outputs": [],
   "source": [
    "min_value=df.new_category.value_counts().min()"
   ]
  },
  {
   "cell_type": "code",
   "execution_count": 14,
   "id": "588992dc",
   "metadata": {},
   "outputs": [],
   "source": [
    "business_df=df[df[\"category\"]==\"BUSINESS\"].sample(min_value)\n",
    "crime_df=df[df[\"category\"]==\"CRIME\"].sample(min_value)\n",
    "sports_df=df[df[\"category\"]==\"SPORTS\"].sample(min_value)\n",
    "science_df=df[df[\"category\"]==\"SCIENCE\"].sample(min_value)"
   ]
  },
  {
   "cell_type": "code",
   "execution_count": 15,
   "id": "e32df95e",
   "metadata": {},
   "outputs": [],
   "source": [
    "lst=[business_df,crime_df,sports_df,science_df]"
   ]
  },
  {
   "cell_type": "code",
   "execution_count": 17,
   "id": "4730cb3e",
   "metadata": {
    "collapsed": true
   },
   "outputs": [
    {
     "data": {
      "text/html": [
       "<div>\n",
       "<style scoped>\n",
       "    .dataframe tbody tr th:only-of-type {\n",
       "        vertical-align: middle;\n",
       "    }\n",
       "\n",
       "    .dataframe tbody tr th {\n",
       "        vertical-align: top;\n",
       "    }\n",
       "\n",
       "    .dataframe thead th {\n",
       "        text-align: right;\n",
       "    }\n",
       "</style>\n",
       "<table border=\"1\" class=\"dataframe\">\n",
       "  <thead>\n",
       "    <tr style=\"text-align: right;\">\n",
       "      <th></th>\n",
       "      <th>text</th>\n",
       "      <th>category</th>\n",
       "      <th>new_category</th>\n",
       "    </tr>\n",
       "  </thead>\n",
       "  <tbody>\n",
       "    <tr>\n",
       "      <th>0</th>\n",
       "      <td>Wells Fargo Scandal A Setback To Lobbying Effo...</td>\n",
       "      <td>BUSINESS</td>\n",
       "      <td>1</td>\n",
       "    </tr>\n",
       "    <tr>\n",
       "      <th>1</th>\n",
       "      <td>FedEx Admits That Not All Packages Made It In ...</td>\n",
       "      <td>BUSINESS</td>\n",
       "      <td>1</td>\n",
       "    </tr>\n",
       "    <tr>\n",
       "      <th>2</th>\n",
       "      <td>I'll Have My Beer For-Profit, Please I was in ...</td>\n",
       "      <td>BUSINESS</td>\n",
       "      <td>1</td>\n",
       "    </tr>\n",
       "    <tr>\n",
       "      <th>3</th>\n",
       "      <td>Ralph Lauren's Native American Ads Reveal Sad ...</td>\n",
       "      <td>BUSINESS</td>\n",
       "      <td>1</td>\n",
       "    </tr>\n",
       "    <tr>\n",
       "      <th>4</th>\n",
       "      <td>Fed Upgrades The Economy, But Will Be 'Patient...</td>\n",
       "      <td>BUSINESS</td>\n",
       "      <td>1</td>\n",
       "    </tr>\n",
       "  </tbody>\n",
       "</table>\n",
       "</div>"
      ],
      "text/plain": [
       "                                                text  category  new_category\n",
       "0  Wells Fargo Scandal A Setback To Lobbying Effo...  BUSINESS             1\n",
       "1  FedEx Admits That Not All Packages Made It In ...  BUSINESS             1\n",
       "2  I'll Have My Beer For-Profit, Please I was in ...  BUSINESS             1\n",
       "3  Ralph Lauren's Native American Ads Reveal Sad ...  BUSINESS             1\n",
       "4  Fed Upgrades The Economy, But Will Be 'Patient...  BUSINESS             1"
      ]
     },
     "execution_count": 17,
     "metadata": {},
     "output_type": "execute_result"
    }
   ],
   "source": [
    "df2=pd.concat(lst,ignore_index=True,axis=0)"
   ]
  },
  {
   "cell_type": "code",
   "execution_count": 20,
   "id": "b796da63",
   "metadata": {},
   "outputs": [
    {
     "data": {
      "text/html": [
       "<div>\n",
       "<style scoped>\n",
       "    .dataframe tbody tr th:only-of-type {\n",
       "        vertical-align: middle;\n",
       "    }\n",
       "\n",
       "    .dataframe tbody tr th {\n",
       "        vertical-align: top;\n",
       "    }\n",
       "\n",
       "    .dataframe thead th {\n",
       "        text-align: right;\n",
       "    }\n",
       "</style>\n",
       "<table border=\"1\" class=\"dataframe\">\n",
       "  <thead>\n",
       "    <tr style=\"text-align: right;\">\n",
       "      <th></th>\n",
       "      <th>text</th>\n",
       "      <th>category</th>\n",
       "      <th>new_category</th>\n",
       "    </tr>\n",
       "  </thead>\n",
       "  <tbody>\n",
       "    <tr>\n",
       "      <th>0</th>\n",
       "      <td>Wells Fargo Scandal A Setback To Lobbying Effo...</td>\n",
       "      <td>BUSINESS</td>\n",
       "      <td>1</td>\n",
       "    </tr>\n",
       "    <tr>\n",
       "      <th>1</th>\n",
       "      <td>FedEx Admits That Not All Packages Made It In ...</td>\n",
       "      <td>BUSINESS</td>\n",
       "      <td>1</td>\n",
       "    </tr>\n",
       "    <tr>\n",
       "      <th>2</th>\n",
       "      <td>I'll Have My Beer For-Profit, Please I was in ...</td>\n",
       "      <td>BUSINESS</td>\n",
       "      <td>1</td>\n",
       "    </tr>\n",
       "    <tr>\n",
       "      <th>3</th>\n",
       "      <td>Ralph Lauren's Native American Ads Reveal Sad ...</td>\n",
       "      <td>BUSINESS</td>\n",
       "      <td>1</td>\n",
       "    </tr>\n",
       "    <tr>\n",
       "      <th>4</th>\n",
       "      <td>Fed Upgrades The Economy, But Will Be 'Patient...</td>\n",
       "      <td>BUSINESS</td>\n",
       "      <td>1</td>\n",
       "    </tr>\n",
       "    <tr>\n",
       "      <th>5</th>\n",
       "      <td>Johnson &amp; Johnson's Star Witness Makes A Stunn...</td>\n",
       "      <td>BUSINESS</td>\n",
       "      <td>1</td>\n",
       "    </tr>\n",
       "    <tr>\n",
       "      <th>6</th>\n",
       "      <td>States Where The Middle Class Is Dying</td>\n",
       "      <td>BUSINESS</td>\n",
       "      <td>1</td>\n",
       "    </tr>\n",
       "    <tr>\n",
       "      <th>7</th>\n",
       "      <td>Waymo Is Quietly Winning The Self-Driving Car ...</td>\n",
       "      <td>BUSINESS</td>\n",
       "      <td>1</td>\n",
       "    </tr>\n",
       "    <tr>\n",
       "      <th>8</th>\n",
       "      <td>Dodd-Frank at Four On July 21, 2010, the Dodd-...</td>\n",
       "      <td>BUSINESS</td>\n",
       "      <td>1</td>\n",
       "    </tr>\n",
       "    <tr>\n",
       "      <th>9</th>\n",
       "      <td>Imran Ali Khan: Align Your Profession With You...</td>\n",
       "      <td>BUSINESS</td>\n",
       "      <td>1</td>\n",
       "    </tr>\n",
       "  </tbody>\n",
       "</table>\n",
       "</div>"
      ],
      "text/plain": [
       "                                                text  category  new_category\n",
       "0  Wells Fargo Scandal A Setback To Lobbying Effo...  BUSINESS             1\n",
       "1  FedEx Admits That Not All Packages Made It In ...  BUSINESS             1\n",
       "2  I'll Have My Beer For-Profit, Please I was in ...  BUSINESS             1\n",
       "3  Ralph Lauren's Native American Ads Reveal Sad ...  BUSINESS             1\n",
       "4  Fed Upgrades The Economy, But Will Be 'Patient...  BUSINESS             1\n",
       "5  Johnson & Johnson's Star Witness Makes A Stunn...  BUSINESS             1\n",
       "6            States Where The Middle Class Is Dying   BUSINESS             1\n",
       "7  Waymo Is Quietly Winning The Self-Driving Car ...  BUSINESS             1\n",
       "8  Dodd-Frank at Four On July 21, 2010, the Dodd-...  BUSINESS             1\n",
       "9  Imran Ali Khan: Align Your Profession With You...  BUSINESS             1"
      ]
     },
     "execution_count": 20,
     "metadata": {},
     "output_type": "execute_result"
    }
   ],
   "source": [
    "df2.head(10)"
   ]
  },
  {
   "cell_type": "code",
   "execution_count": 18,
   "id": "a6c1ea7f",
   "metadata": {},
   "outputs": [
    {
     "name": "stdout",
     "output_type": "stream",
     "text": [
      "<class 'pandas.core.frame.DataFrame'>\n",
      "RangeIndex: 5524 entries, 0 to 5523\n",
      "Data columns (total 3 columns):\n",
      " #   Column        Non-Null Count  Dtype \n",
      "---  ------        --------------  ----- \n",
      " 0   text          5524 non-null   object\n",
      " 1   category      5524 non-null   object\n",
      " 2   new_category  5524 non-null   int64 \n",
      "dtypes: int64(1), object(2)\n",
      "memory usage: 129.6+ KB\n"
     ]
    }
   ],
   "source": [
    "df2.info()"
   ]
  },
  {
   "cell_type": "code",
   "execution_count": 19,
   "id": "5e986d33",
   "metadata": {},
   "outputs": [
    {
     "data": {
      "text/plain": [
       "5524"
      ]
     },
     "execution_count": 19,
     "metadata": {},
     "output_type": "execute_result"
    }
   ],
   "source": [
    "4*min_value"
   ]
  },
  {
   "cell_type": "markdown",
   "id": "2c1b90ad",
   "metadata": {},
   "source": [
    "# Data Frame Kariştirma"
   ]
  },
  {
   "cell_type": "code",
   "execution_count": 21,
   "id": "bd2a9b60",
   "metadata": {},
   "outputs": [],
   "source": [
    "# bir data frame nasil karistirilir"
   ]
  },
  {
   "cell_type": "code",
   "execution_count": 22,
   "id": "87baffa4",
   "metadata": {},
   "outputs": [
    {
     "data": {
      "text/html": [
       "<div>\n",
       "<style scoped>\n",
       "    .dataframe tbody tr th:only-of-type {\n",
       "        vertical-align: middle;\n",
       "    }\n",
       "\n",
       "    .dataframe tbody tr th {\n",
       "        vertical-align: top;\n",
       "    }\n",
       "\n",
       "    .dataframe thead th {\n",
       "        text-align: right;\n",
       "    }\n",
       "</style>\n",
       "<table border=\"1\" class=\"dataframe\">\n",
       "  <thead>\n",
       "    <tr style=\"text-align: right;\">\n",
       "      <th></th>\n",
       "      <th>text</th>\n",
       "      <th>category</th>\n",
       "      <th>new_category</th>\n",
       "    </tr>\n",
       "  </thead>\n",
       "  <tbody>\n",
       "    <tr>\n",
       "      <th>1215</th>\n",
       "      <td>Women in Business Q&amp;A: Kimberly Leach Johnson,...</td>\n",
       "      <td>BUSINESS</td>\n",
       "      <td>1</td>\n",
       "    </tr>\n",
       "    <tr>\n",
       "      <th>4044</th>\n",
       "      <td>Keith Olbermann Not Exactly Thrilled Penn Stat...</td>\n",
       "      <td>SPORTS</td>\n",
       "      <td>3</td>\n",
       "    </tr>\n",
       "    <tr>\n",
       "      <th>2762</th>\n",
       "      <td>'Philly Special,' And How Doug Pederson Out-Co...</td>\n",
       "      <td>SPORTS</td>\n",
       "      <td>3</td>\n",
       "    </tr>\n",
       "    <tr>\n",
       "      <th>510</th>\n",
       "      <td>3 Habits Killing Your Productivity In our atte...</td>\n",
       "      <td>BUSINESS</td>\n",
       "      <td>1</td>\n",
       "    </tr>\n",
       "    <tr>\n",
       "      <th>2759</th>\n",
       "      <td>TSA Seizes 81 Pounds Of Pot At Airport</td>\n",
       "      <td>CRIME</td>\n",
       "      <td>2</td>\n",
       "    </tr>\n",
       "  </tbody>\n",
       "</table>\n",
       "</div>"
      ],
      "text/plain": [
       "                                                   text  category  \\\n",
       "1215  Women in Business Q&A: Kimberly Leach Johnson,...  BUSINESS   \n",
       "4044  Keith Olbermann Not Exactly Thrilled Penn Stat...    SPORTS   \n",
       "2762  'Philly Special,' And How Doug Pederson Out-Co...    SPORTS   \n",
       "510   3 Habits Killing Your Productivity In our atte...  BUSINESS   \n",
       "2759            TSA Seizes 81 Pounds Of Pot At Airport      CRIME   \n",
       "\n",
       "      new_category  \n",
       "1215             1  \n",
       "4044             3  \n",
       "2762             3  \n",
       "510              1  \n",
       "2759             2  "
      ]
     },
     "execution_count": 22,
     "metadata": {},
     "output_type": "execute_result"
    }
   ],
   "source": [
    "df3=df2.sample(frac=1)  # !!!!!!!!!!!!!!!!!!!!!!!!!!!\n",
    "df3.head()"
   ]
  },
  {
   "cell_type": "code",
   "execution_count": 24,
   "id": "fb3e4125",
   "metadata": {},
   "outputs": [
    {
     "data": {
      "text/html": [
       "<div>\n",
       "<style scoped>\n",
       "    .dataframe tbody tr th:only-of-type {\n",
       "        vertical-align: middle;\n",
       "    }\n",
       "\n",
       "    .dataframe tbody tr th {\n",
       "        vertical-align: top;\n",
       "    }\n",
       "\n",
       "    .dataframe thead th {\n",
       "        text-align: right;\n",
       "    }\n",
       "</style>\n",
       "<table border=\"1\" class=\"dataframe\">\n",
       "  <thead>\n",
       "    <tr style=\"text-align: right;\">\n",
       "      <th></th>\n",
       "      <th>text</th>\n",
       "      <th>category</th>\n",
       "      <th>new_category</th>\n",
       "    </tr>\n",
       "  </thead>\n",
       "  <tbody>\n",
       "    <tr>\n",
       "      <th>0</th>\n",
       "      <td>Wells Fargo Scandal A Setback To Lobbying Effo...</td>\n",
       "      <td>BUSINESS</td>\n",
       "      <td>1</td>\n",
       "    </tr>\n",
       "    <tr>\n",
       "      <th>1</th>\n",
       "      <td>FedEx Admits That Not All Packages Made It In ...</td>\n",
       "      <td>BUSINESS</td>\n",
       "      <td>1</td>\n",
       "    </tr>\n",
       "    <tr>\n",
       "      <th>2</th>\n",
       "      <td>I'll Have My Beer For-Profit, Please I was in ...</td>\n",
       "      <td>BUSINESS</td>\n",
       "      <td>1</td>\n",
       "    </tr>\n",
       "    <tr>\n",
       "      <th>3</th>\n",
       "      <td>Ralph Lauren's Native American Ads Reveal Sad ...</td>\n",
       "      <td>BUSINESS</td>\n",
       "      <td>1</td>\n",
       "    </tr>\n",
       "    <tr>\n",
       "      <th>4</th>\n",
       "      <td>Fed Upgrades The Economy, But Will Be 'Patient...</td>\n",
       "      <td>BUSINESS</td>\n",
       "      <td>1</td>\n",
       "    </tr>\n",
       "  </tbody>\n",
       "</table>\n",
       "</div>"
      ],
      "text/plain": [
       "                                                text  category  new_category\n",
       "0  Wells Fargo Scandal A Setback To Lobbying Effo...  BUSINESS             1\n",
       "1  FedEx Admits That Not All Packages Made It In ...  BUSINESS             1\n",
       "2  I'll Have My Beer For-Profit, Please I was in ...  BUSINESS             1\n",
       "3  Ralph Lauren's Native American Ads Reveal Sad ...  BUSINESS             1\n",
       "4  Fed Upgrades The Economy, But Will Be 'Patient...  BUSINESS             1"
      ]
     },
     "metadata": {},
     "output_type": "display_data"
    },
    {
     "data": {
      "text/html": [
       "<div>\n",
       "<style scoped>\n",
       "    .dataframe tbody tr th:only-of-type {\n",
       "        vertical-align: middle;\n",
       "    }\n",
       "\n",
       "    .dataframe tbody tr th {\n",
       "        vertical-align: top;\n",
       "    }\n",
       "\n",
       "    .dataframe thead th {\n",
       "        text-align: right;\n",
       "    }\n",
       "</style>\n",
       "<table border=\"1\" class=\"dataframe\">\n",
       "  <thead>\n",
       "    <tr style=\"text-align: right;\">\n",
       "      <th></th>\n",
       "      <th>text</th>\n",
       "      <th>category</th>\n",
       "      <th>new_category</th>\n",
       "    </tr>\n",
       "  </thead>\n",
       "  <tbody>\n",
       "    <tr>\n",
       "      <th>1215</th>\n",
       "      <td>Women in Business Q&amp;A: Kimberly Leach Johnson,...</td>\n",
       "      <td>BUSINESS</td>\n",
       "      <td>1</td>\n",
       "    </tr>\n",
       "    <tr>\n",
       "      <th>4044</th>\n",
       "      <td>Keith Olbermann Not Exactly Thrilled Penn Stat...</td>\n",
       "      <td>SPORTS</td>\n",
       "      <td>3</td>\n",
       "    </tr>\n",
       "    <tr>\n",
       "      <th>2762</th>\n",
       "      <td>'Philly Special,' And How Doug Pederson Out-Co...</td>\n",
       "      <td>SPORTS</td>\n",
       "      <td>3</td>\n",
       "    </tr>\n",
       "    <tr>\n",
       "      <th>510</th>\n",
       "      <td>3 Habits Killing Your Productivity In our atte...</td>\n",
       "      <td>BUSINESS</td>\n",
       "      <td>1</td>\n",
       "    </tr>\n",
       "    <tr>\n",
       "      <th>2759</th>\n",
       "      <td>TSA Seizes 81 Pounds Of Pot At Airport</td>\n",
       "      <td>CRIME</td>\n",
       "      <td>2</td>\n",
       "    </tr>\n",
       "  </tbody>\n",
       "</table>\n",
       "</div>"
      ],
      "text/plain": [
       "                                                   text  category  \\\n",
       "1215  Women in Business Q&A: Kimberly Leach Johnson,...  BUSINESS   \n",
       "4044  Keith Olbermann Not Exactly Thrilled Penn Stat...    SPORTS   \n",
       "2762  'Philly Special,' And How Doug Pederson Out-Co...    SPORTS   \n",
       "510   3 Habits Killing Your Productivity In our atte...  BUSINESS   \n",
       "2759            TSA Seizes 81 Pounds Of Pot At Airport      CRIME   \n",
       "\n",
       "      new_category  \n",
       "1215             1  \n",
       "4044             3  \n",
       "2762             3  \n",
       "510              1  \n",
       "2759             2  "
      ]
     },
     "metadata": {},
     "output_type": "display_data"
    }
   ],
   "source": [
    "display(df2[:5],df3[:5])"
   ]
  },
  {
   "cell_type": "code",
   "execution_count": 25,
   "id": "14c3462b",
   "metadata": {},
   "outputs": [],
   "source": [
    "nlp=spacy.load(\"en_core_web_lg\")"
   ]
  },
  {
   "cell_type": "code",
   "execution_count": 26,
   "id": "2824da89",
   "metadata": {},
   "outputs": [],
   "source": [
    "def preprocess_txt(text):\n",
    "    filtered_values=[]\n",
    "    doc=nlp(text)\n",
    "    \n",
    "    for token in doc:\n",
    "        if token.is_stop or token.is_punct:\n",
    "            continue\n",
    "        filtered_values.append(token.lemma_)\n",
    "    return \" \".join(filtered_values)"
   ]
  },
  {
   "cell_type": "code",
   "execution_count": null,
   "id": "cb43d108",
   "metadata": {},
   "outputs": [],
   "source": [
    "#create a new column \"preprocessed_text\" which store the clean form of given text [use apply and lambda function]"
   ]
  },
  {
   "cell_type": "code",
   "execution_count": 27,
   "id": "0e29916d",
   "metadata": {},
   "outputs": [
    {
     "data": {
      "text/html": [
       "<div>\n",
       "<style scoped>\n",
       "    .dataframe tbody tr th:only-of-type {\n",
       "        vertical-align: middle;\n",
       "    }\n",
       "\n",
       "    .dataframe tbody tr th {\n",
       "        vertical-align: top;\n",
       "    }\n",
       "\n",
       "    .dataframe thead th {\n",
       "        text-align: right;\n",
       "    }\n",
       "</style>\n",
       "<table border=\"1\" class=\"dataframe\">\n",
       "  <thead>\n",
       "    <tr style=\"text-align: right;\">\n",
       "      <th></th>\n",
       "      <th>text</th>\n",
       "      <th>category</th>\n",
       "      <th>new_category</th>\n",
       "      <th>preprocessed_text</th>\n",
       "    </tr>\n",
       "  </thead>\n",
       "  <tbody>\n",
       "    <tr>\n",
       "      <th>1215</th>\n",
       "      <td>Women in Business Q&amp;A: Kimberly Leach Johnson,...</td>\n",
       "      <td>BUSINESS</td>\n",
       "      <td>1</td>\n",
       "      <td>woman Business Q&amp;A Kimberly Leach Johnson Firm...</td>\n",
       "    </tr>\n",
       "    <tr>\n",
       "      <th>4044</th>\n",
       "      <td>Keith Olbermann Not Exactly Thrilled Penn Stat...</td>\n",
       "      <td>SPORTS</td>\n",
       "      <td>3</td>\n",
       "      <td>Keith Olbermann exactly thrilled Penn State ge...</td>\n",
       "    </tr>\n",
       "    <tr>\n",
       "      <th>2762</th>\n",
       "      <td>'Philly Special,' And How Doug Pederson Out-Co...</td>\n",
       "      <td>SPORTS</td>\n",
       "      <td>3</td>\n",
       "      <td>Philly Special Doug Pederson coach Bill Belich...</td>\n",
       "    </tr>\n",
       "    <tr>\n",
       "      <th>510</th>\n",
       "      <td>3 Habits Killing Your Productivity In our atte...</td>\n",
       "      <td>BUSINESS</td>\n",
       "      <td>1</td>\n",
       "      <td>3 habit kill productivity attempt well job acc...</td>\n",
       "    </tr>\n",
       "    <tr>\n",
       "      <th>2759</th>\n",
       "      <td>TSA Seizes 81 Pounds Of Pot At Airport</td>\n",
       "      <td>CRIME</td>\n",
       "      <td>2</td>\n",
       "      <td>TSA Seizes 81 pound Pot Airport</td>\n",
       "    </tr>\n",
       "  </tbody>\n",
       "</table>\n",
       "</div>"
      ],
      "text/plain": [
       "                                                   text  category  \\\n",
       "1215  Women in Business Q&A: Kimberly Leach Johnson,...  BUSINESS   \n",
       "4044  Keith Olbermann Not Exactly Thrilled Penn Stat...    SPORTS   \n",
       "2762  'Philly Special,' And How Doug Pederson Out-Co...    SPORTS   \n",
       "510   3 Habits Killing Your Productivity In our atte...  BUSINESS   \n",
       "2759            TSA Seizes 81 Pounds Of Pot At Airport      CRIME   \n",
       "\n",
       "      new_category                                  preprocessed_text  \n",
       "1215             1  woman Business Q&A Kimberly Leach Johnson Firm...  \n",
       "4044             3  Keith Olbermann exactly thrilled Penn State ge...  \n",
       "2762             3  Philly Special Doug Pederson coach Bill Belich...  \n",
       "510              1  3 habit kill productivity attempt well job acc...  \n",
       "2759             2                    TSA Seizes 81 pound Pot Airport  "
      ]
     },
     "execution_count": 27,
     "metadata": {},
     "output_type": "execute_result"
    }
   ],
   "source": [
    "df3[\"preprocessed_text\"]=df3[\"text\"].apply(lambda text: preprocess_txt(text))\n",
    "df3.head()"
   ]
  },
  {
   "cell_type": "code",
   "execution_count": 28,
   "id": "1fef294d",
   "metadata": {},
   "outputs": [
    {
     "data": {
      "text/html": [
       "<div>\n",
       "<style scoped>\n",
       "    .dataframe tbody tr th:only-of-type {\n",
       "        vertical-align: middle;\n",
       "    }\n",
       "\n",
       "    .dataframe tbody tr th {\n",
       "        vertical-align: top;\n",
       "    }\n",
       "\n",
       "    .dataframe thead th {\n",
       "        text-align: right;\n",
       "    }\n",
       "</style>\n",
       "<table border=\"1\" class=\"dataframe\">\n",
       "  <thead>\n",
       "    <tr style=\"text-align: right;\">\n",
       "      <th></th>\n",
       "      <th>text</th>\n",
       "      <th>category</th>\n",
       "      <th>new_category</th>\n",
       "      <th>preprocessed_text</th>\n",
       "      <th>vector</th>\n",
       "    </tr>\n",
       "  </thead>\n",
       "  <tbody>\n",
       "    <tr>\n",
       "      <th>1215</th>\n",
       "      <td>Women in Business Q&amp;A: Kimberly Leach Johnson,...</td>\n",
       "      <td>BUSINESS</td>\n",
       "      <td>1</td>\n",
       "      <td>woman Business Q&amp;A Kimberly Leach Johnson Firm...</td>\n",
       "      <td>[-0.9867314, -0.95803154, -0.64731354, 0.77050...</td>\n",
       "    </tr>\n",
       "    <tr>\n",
       "      <th>4044</th>\n",
       "      <td>Keith Olbermann Not Exactly Thrilled Penn Stat...</td>\n",
       "      <td>SPORTS</td>\n",
       "      <td>3</td>\n",
       "      <td>Keith Olbermann exactly thrilled Penn State ge...</td>\n",
       "      <td>[-2.4049623, 1.0576682, -0.36434752, -0.100362...</td>\n",
       "    </tr>\n",
       "    <tr>\n",
       "      <th>2762</th>\n",
       "      <td>'Philly Special,' And How Doug Pederson Out-Co...</td>\n",
       "      <td>SPORTS</td>\n",
       "      <td>3</td>\n",
       "      <td>Philly Special Doug Pederson coach Bill Belich...</td>\n",
       "      <td>[-1.1958331, 2.5502446, -0.67635804, 1.2271678...</td>\n",
       "    </tr>\n",
       "    <tr>\n",
       "      <th>510</th>\n",
       "      <td>3 Habits Killing Your Productivity In our atte...</td>\n",
       "      <td>BUSINESS</td>\n",
       "      <td>1</td>\n",
       "      <td>3 habit kill productivity attempt well job acc...</td>\n",
       "      <td>[0.57608825, 0.80416054, -2.6196957, 1.4064559...</td>\n",
       "    </tr>\n",
       "    <tr>\n",
       "      <th>2759</th>\n",
       "      <td>TSA Seizes 81 Pounds Of Pot At Airport</td>\n",
       "      <td>CRIME</td>\n",
       "      <td>2</td>\n",
       "      <td>TSA Seizes 81 pound Pot Airport</td>\n",
       "      <td>[-1.0116817, -0.67574733, 0.33540002, 2.095366...</td>\n",
       "    </tr>\n",
       "  </tbody>\n",
       "</table>\n",
       "</div>"
      ],
      "text/plain": [
       "                                                   text  category  \\\n",
       "1215  Women in Business Q&A: Kimberly Leach Johnson,...  BUSINESS   \n",
       "4044  Keith Olbermann Not Exactly Thrilled Penn Stat...    SPORTS   \n",
       "2762  'Philly Special,' And How Doug Pederson Out-Co...    SPORTS   \n",
       "510   3 Habits Killing Your Productivity In our atte...  BUSINESS   \n",
       "2759            TSA Seizes 81 Pounds Of Pot At Airport      CRIME   \n",
       "\n",
       "      new_category                                  preprocessed_text  \\\n",
       "1215             1  woman Business Q&A Kimberly Leach Johnson Firm...   \n",
       "4044             3  Keith Olbermann exactly thrilled Penn State ge...   \n",
       "2762             3  Philly Special Doug Pederson coach Bill Belich...   \n",
       "510              1  3 habit kill productivity attempt well job acc...   \n",
       "2759             2                    TSA Seizes 81 pound Pot Airport   \n",
       "\n",
       "                                                 vector  \n",
       "1215  [-0.9867314, -0.95803154, -0.64731354, 0.77050...  \n",
       "4044  [-2.4049623, 1.0576682, -0.36434752, -0.100362...  \n",
       "2762  [-1.1958331, 2.5502446, -0.67635804, 1.2271678...  \n",
       "510   [0.57608825, 0.80416054, -2.6196957, 1.4064559...  \n",
       "2759  [-1.0116817, -0.67574733, 0.33540002, 2.095366...  "
      ]
     },
     "execution_count": 28,
     "metadata": {},
     "output_type": "execute_result"
    }
   ],
   "source": [
    "df3[\"vector\"]=df3[\"preprocessed_text\"].apply(lambda x: nlp(x).vector)\n",
    "df3.head()"
   ]
  },
  {
   "cell_type": "code",
   "execution_count": 29,
   "id": "100d6061",
   "metadata": {},
   "outputs": [],
   "source": [
    "from sklearn.model_selection import train_test_split\n"
   ]
  },
  {
   "cell_type": "code",
   "execution_count": 34,
   "id": "b794b7e6",
   "metadata": {},
   "outputs": [],
   "source": [
    "X_train,X_test,y_train,y_test=train_test_split(df3.vector.values,\n",
    "                                               df3.new_category,\n",
    "                                               test_size=0.2,\n",
    "                                               random_state=4,\n",
    "                                               stratify=df3.new_category)"
   ]
  },
  {
   "cell_type": "code",
   "execution_count": null,
   "id": "3cb71231",
   "metadata": {},
   "outputs": [],
   "source": [
    "#reshapes the X_train and X_test using 'stack' function of numpy. Store the result in new variables \"X_train_2d\" and \"X_test_2d\"\n"
   ]
  },
  {
   "cell_type": "code",
   "execution_count": 35,
   "id": "49c795fe",
   "metadata": {},
   "outputs": [
    {
     "name": "stdout",
     "output_type": "stream",
     "text": [
      "Shape of X_train before reshaping:  (4419,)\n",
      "Shape of X_test before reshaping:  (1105,)\n"
     ]
    }
   ],
   "source": [
    "print(\"Shape of X_train before reshaping: \", X_train.shape)\n",
    "print(\"Shape of X_test before reshaping: \", X_test.shape)"
   ]
  },
  {
   "cell_type": "code",
   "execution_count": 36,
   "id": "3db35de2",
   "metadata": {},
   "outputs": [
    {
     "name": "stdout",
     "output_type": "stream",
     "text": [
      "Shape of X_train after reshaping:  (4419, 300)\n",
      "Shape of X_test after reshaping:  (1105, 300)\n"
     ]
    }
   ],
   "source": [
    "X_train_2d=np.stack(X_train)\n",
    "X_test_2d=np.stack(X_test)\n",
    "\n",
    "print(\"Shape of X_train after reshaping: \", X_train_2d.shape)\n",
    "print(\"Shape of X_test after reshaping: \", X_test_2d.shape)"
   ]
  },
  {
   "cell_type": "markdown",
   "id": "c73610da",
   "metadata": {},
   "source": [
    "# Attempt 1:"
   ]
  },
  {
   "cell_type": "code",
   "execution_count": 38,
   "id": "28ca9ba9",
   "metadata": {},
   "outputs": [],
   "source": [
    "from sklearn.tree import DecisionTreeClassifier\n",
    "from sklearn.metrics import classification_report"
   ]
  },
  {
   "cell_type": "code",
   "execution_count": 39,
   "id": "a70dcd99",
   "metadata": {},
   "outputs": [
    {
     "name": "stdout",
     "output_type": "stream",
     "text": [
      "              precision    recall  f1-score   support\n",
      "\n",
      "           0       0.60      0.63      0.61       276\n",
      "           1       0.60      0.58      0.59       276\n",
      "           2       0.64      0.64      0.64       277\n",
      "           3       0.67      0.67      0.67       276\n",
      "\n",
      "    accuracy                           0.63      1105\n",
      "   macro avg       0.63      0.63      0.63      1105\n",
      "weighted avg       0.63      0.63      0.63      1105\n",
      "\n"
     ]
    }
   ],
   "source": [
    "clf=DecisionTreeClassifier()\n",
    "\n",
    "clf.fit(X_train_2d,y_train)\n",
    "\n",
    "y_pred=clf.predict(X_test_2d)\n",
    "\n",
    "print(classification_report(y_test,y_pred))"
   ]
  },
  {
   "cell_type": "markdown",
   "id": "956cd18e",
   "metadata": {},
   "source": [
    "# Attempt 2:"
   ]
  },
  {
   "cell_type": "code",
   "execution_count": 40,
   "id": "87c64be9",
   "metadata": {},
   "outputs": [],
   "source": [
    "from sklearn.naive_bayes import MultinomialNB\n",
    "from sklearn.preprocessing import MinMaxScaler"
   ]
  },
  {
   "cell_type": "code",
   "execution_count": 41,
   "id": "2a8d6a6e",
   "metadata": {},
   "outputs": [],
   "source": [
    "scaler=MinMaxScaler()"
   ]
  },
  {
   "cell_type": "code",
   "execution_count": 42,
   "id": "e38388e6",
   "metadata": {},
   "outputs": [],
   "source": [
    "X_train_scaled=scaler.fit_transform(X_train_2d)\n",
    "X_test_scaled=scaler.fit_transform(X_test_2d)"
   ]
  },
  {
   "cell_type": "code",
   "execution_count": 43,
   "id": "ce0998ca",
   "metadata": {},
   "outputs": [
    {
     "name": "stdout",
     "output_type": "stream",
     "text": [
      "              precision    recall  f1-score   support\n",
      "\n",
      "           0       0.69      0.71      0.70       276\n",
      "           1       0.77      0.56      0.65       276\n",
      "           2       0.85      0.78      0.81       277\n",
      "           3       0.62      0.83      0.71       276\n",
      "\n",
      "    accuracy                           0.72      1105\n",
      "   macro avg       0.73      0.72      0.72      1105\n",
      "weighted avg       0.73      0.72      0.72      1105\n",
      "\n"
     ]
    }
   ],
   "source": [
    "clf=MultinomialNB()\n",
    "\n",
    "clf.fit(X_train_scaled,y_train)\n",
    "\n",
    "y_pred=clf.predict(X_test_scaled)\n",
    "\n",
    "print(classification_report(y_test,y_pred))"
   ]
  },
  {
   "cell_type": "markdown",
   "id": "d556ebff",
   "metadata": {},
   "source": [
    "# Attempt 3:"
   ]
  },
  {
   "cell_type": "code",
   "execution_count": 44,
   "id": "d1f5d6c9",
   "metadata": {},
   "outputs": [],
   "source": [
    "from sklearn.neighbors import KNeighborsClassifier"
   ]
  },
  {
   "cell_type": "code",
   "execution_count": 46,
   "id": "eb9f9b65",
   "metadata": {},
   "outputs": [
    {
     "name": "stdout",
     "output_type": "stream",
     "text": [
      "              precision    recall  f1-score   support\n",
      "\n",
      "           0       0.77      0.76      0.77       276\n",
      "           1       0.76      0.76      0.76       276\n",
      "           2       0.79      0.90      0.84       277\n",
      "           3       0.86      0.76      0.81       276\n",
      "\n",
      "    accuracy                           0.79      1105\n",
      "   macro avg       0.80      0.79      0.79      1105\n",
      "weighted avg       0.80      0.79      0.79      1105\n",
      "\n"
     ]
    }
   ],
   "source": [
    "clf=KNeighborsClassifier(n_neighbors = 5, metric = 'euclidean')\n",
    "clf.fit(X_train_2d,y_train)\n",
    "y_pred=clf.predict(X_test_2d)\n",
    "print(classification_report(y_test,y_pred))"
   ]
  },
  {
   "cell_type": "markdown",
   "id": "17d8d2e1",
   "metadata": {},
   "source": [
    "# Attempt 4:"
   ]
  },
  {
   "cell_type": "code",
   "execution_count": 47,
   "id": "1b6072a1",
   "metadata": {},
   "outputs": [],
   "source": [
    "from sklearn.ensemble import RandomForestClassifier"
   ]
  },
  {
   "cell_type": "code",
   "execution_count": 48,
   "id": "f64ae006",
   "metadata": {},
   "outputs": [
    {
     "name": "stdout",
     "output_type": "stream",
     "text": [
      "              precision    recall  f1-score   support\n",
      "\n",
      "           0       0.80      0.79      0.79       276\n",
      "           1       0.80      0.79      0.79       276\n",
      "           2       0.82      0.87      0.84       277\n",
      "           3       0.83      0.80      0.81       276\n",
      "\n",
      "    accuracy                           0.81      1105\n",
      "   macro avg       0.81      0.81      0.81      1105\n",
      "weighted avg       0.81      0.81      0.81      1105\n",
      "\n"
     ]
    }
   ],
   "source": [
    "clf=RandomForestClassifier()\n",
    "\n",
    "clf.fit(X_train_2d,y_train)\n",
    "\n",
    "y_pred=clf.predict(X_test_2d)\n",
    "\n",
    "print(classification_report(y_test,y_pred))"
   ]
  },
  {
   "cell_type": "markdown",
   "id": "7ef4cd3f",
   "metadata": {},
   "source": [
    "# Attempt 5:"
   ]
  },
  {
   "cell_type": "code",
   "execution_count": 49,
   "id": "e01a73fc",
   "metadata": {},
   "outputs": [],
   "source": [
    "from sklearn.ensemble import GradientBoostingClassifier"
   ]
  },
  {
   "cell_type": "code",
   "execution_count": 50,
   "id": "60d32a93",
   "metadata": {},
   "outputs": [
    {
     "name": "stdout",
     "output_type": "stream",
     "text": [
      "              precision    recall  f1-score   support\n",
      "\n",
      "           0       0.84      0.83      0.83       276\n",
      "           1       0.83      0.85      0.84       276\n",
      "           2       0.86      0.87      0.87       277\n",
      "           3       0.87      0.85      0.86       276\n",
      "\n",
      "    accuracy                           0.85      1105\n",
      "   macro avg       0.85      0.85      0.85      1105\n",
      "weighted avg       0.85      0.85      0.85      1105\n",
      "\n"
     ]
    }
   ],
   "source": [
    "clf=GradientBoostingClassifier()\n",
    "\n",
    "clf.fit(X_train_2d,y_train)\n",
    "\n",
    "y_pred=clf.predict(X_test_2d)\n",
    "\n",
    "print(classification_report(y_test,y_pred))"
   ]
  },
  {
   "cell_type": "code",
   "execution_count": 51,
   "id": "17b40e8c",
   "metadata": {},
   "outputs": [],
   "source": [
    "from matplotlib import pyplot as plt\n",
    "import seaborn as sn"
   ]
  },
  {
   "cell_type": "code",
   "execution_count": 52,
   "id": "17158cc2",
   "metadata": {},
   "outputs": [],
   "source": [
    "from sklearn.metrics import confusion_matrix"
   ]
  },
  {
   "cell_type": "code",
   "execution_count": 53,
   "id": "8338ad3b",
   "metadata": {},
   "outputs": [
    {
     "data": {
      "text/plain": [
       "array([[228,  24,   9,  15],\n",
       "       [ 21, 235,  12,   8],\n",
       "       [ 15,   8, 242,  12],\n",
       "       [  8,  15,  19, 234]], dtype=int64)"
      ]
     },
     "execution_count": 53,
     "metadata": {},
     "output_type": "execute_result"
    }
   ],
   "source": [
    "cm=confusion_matrix(y_test,y_pred)\n",
    "cm"
   ]
  },
  {
   "cell_type": "code",
   "execution_count": 55,
   "id": "20a5347c",
   "metadata": {},
   "outputs": [
    {
     "data": {
      "image/png": "[encoded data removed]",
      "text/plain": [
       "<Figure size 1000x700 with 2 Axes>"
      ]
     },
     "metadata": {},
     "output_type": "display_data"
    }
   ],
   "source": [
    "plt.figure(figsize=(10,7))\n",
    "sn.heatmap(cm,annot=True,fmt=\"d\")\n",
    "plt.xlabel(\"Predicted\")\n",
    "plt.ylabel(\"Truth\");"
   ]
  },
  {
   "cell_type": "code",
   "execution_count": null,
   "id": "2e3606b1",
   "metadata": {},
   "outputs": [],
   "source": []
  }
 ],
 "metadata": {
  "kernelspec": {
   "display_name": "Python 3 (ipykernel)",
   "language": "python",
   "name": "python3"
  },
  "language_info": {
   "codemirror_mode": {
    "name": "ipython",
    "version": 3
   },
   "file_extension": ".py",
   "mimetype": "text/x-python",
   "name": "python",
   "nbconvert_exporter": "python",
   "pygments_lexer": "ipython3",
   "version": "3.9.7"
  }
 },
 "nbformat": 4,
 "nbformat_minor": 5
}
